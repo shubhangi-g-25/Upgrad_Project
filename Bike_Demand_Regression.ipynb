{
 "cells": [
  {
   "cell_type": "markdown",
   "id": "d7609585",
   "metadata": {},
   "source": [
    "# Bike Demand Prediction using Multiple Linear Regression"
   ]
  },
  {
   "cell_type": "markdown",
   "id": "90b95cb8",
   "metadata": {},
   "source": [
    "# Step 1: Import Required Libraries\n",
    "import pandas as pd\n",
    "import numpy as np\n",
    "import seaborn as sns\n",
    "import matplotlib.pyplot as plt\n",
    "from sklearn.model_selection import train_test_split\n",
    "from sklearn.linear_model import LinearRegression\n",
    "from sklearn.metrics import r2_score"
   ]
  },
  {
   "cell_type": "markdown",
   "id": "ffd2d910",
   "metadata": {},
   "source": [
    "# Step 2: Load the Dataset\n",
    "df = pd.read_csv('day.csv')  # Make sure the file name is correct\n",
    "df.head()"
   ]
  },
  {
   "cell_type": "markdown",
   "id": "edb8be44",
   "metadata": {},
   "source": [
    "# Step 3: Data Preprocessing\n",
    "# Map categorical values\n",
    "df['season'] = df['season'].map({1: 'spring', 2: 'summer', 3: 'fall', 4: 'winter'})\n",
    "df['weathersit'] = df['weathersit'].map({\n",
    "    1: 'Clear',\n",
    "    2: 'Mist + Cloudy',\n",
    "    3: 'Light Snow/Rain',\n",
    "    4: 'Heavy Rain/Snow'\n",
    "})\n",
    "\n",
    "# Drop irrelevant columns\n",
    "df.drop(['instant', 'dteday', 'casual', 'registered'], axis=1, inplace=True)\n",
    "\n",
    "# One-hot encoding for categorical features\n",
    "df = pd.get_dummies(df, columns=['season', 'weathersit', 'mnth', 'weekday'], drop_first=True)"
   ]
  },
  {
   "cell_type": "markdown",
   "id": "2971d155",
   "metadata": {},
   "source": [
    "# Step 4: Define Features and Target\n",
    "X = df.drop('cnt', axis=1)\n",
    "y = df['cnt']"
   ]
  },
  {
   "cell_type": "markdown",
   "id": "4234d09e",
   "metadata": {},
   "source": [
    "# Step 5: Train-Test Split\n",
    "X_train, X_test, y_train, y_test = train_test_split(X, y, test_size=0.3, random_state=42)"
   ]
  },
  {
   "cell_type": "markdown",
   "id": "38c2878c",
   "metadata": {},
   "source": [
    "# Step 6: Train the Model\n",
    "lr = LinearRegression()\n",
    "lr.fit(X_train, y_train)"
   ]
  },
  {
   "cell_type": "markdown",
   "id": "b6d1ee4c",
   "metadata": {},
   "source": [
    "# Step 7: Make Predictions and Evaluate\n",
    "y_pred = lr.predict(X_test)\n",
    "r2 = r2_score(y_test, y_pred)\n",
    "print(f\"R-squared Score: {r2:.4f}\")"
   ]
  },
  {
   "cell_type": "markdown",
   "id": "74e392b8",
   "metadata": {},
   "source": [
    "# Step 8: Residual Analysis\n",
    "residuals = y_test - y_pred\n",
    "sns.histplot(residuals, kde=True)\n",
    "plt.title(\"Residuals Distribution\")\n",
    "plt.xlabel(\"Residuals\")\n",
    "plt.ylabel(\"Frequency\")\n",
    "plt.show()"
   ]
  }
 ],
 "metadata": {},
 "nbformat": 4,
 "nbformat_minor": 5
}
